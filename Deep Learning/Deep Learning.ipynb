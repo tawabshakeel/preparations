{
 "cells": [
  {
   "cell_type": "markdown",
   "metadata": {},
   "source": [
    "### Aritificial Neural Networks (ANNs)"
   ]
  },
  {
   "cell_type": "markdown",
   "metadata": {},
   "source": [
    "ANNs are the computing systems that are inspired by the human brain's neural network \n",
    "- These networks are based on a collection of connected units called <b>artificial neurons</b> or <b>neurons</b>\n",
    "- Each connection between neurons can transmit a signal from one nueron to another\n",
    "- The receiving neuron processes the signal and signals downstream neurons connected to it\n",
    "- Neurons are Organized into layers \n",
    "    - Input Layer\n",
    "    - Hidden Layer\n",
    "    - Output Layer"
   ]
  },
  {
   "cell_type": "markdown",
   "metadata": {},
   "source": [
    "### Layers in ANNs"
   ]
  },
  {
   "cell_type": "markdown",
   "metadata": {},
   "source": [
    "ANNs are typically organized in layers. Different types of layers include \n",
    "- Dense or (Fully Connected ) Layers\n",
    "- Convolutional Layers\n",
    "- Pooling Layers\n",
    "- Recurrent Layers\n",
    "- Normalization Layers\n",
    "- Many Others"
   ]
  },
  {
   "cell_type": "markdown",
   "metadata": {},
   "source": [
    "### Activations Functions \n",
    "Activation Functions defines the output of that neurons given a set of inputs\n"
   ]
  },
  {
   "cell_type": "code",
   "execution_count": 7,
   "metadata": {},
   "outputs": [],
   "source": [
    "from tensorflow import keras\n",
    "from tensorflow.keras.layers import Dense,Activation"
   ]
  },
  {
   "cell_type": "code",
   "execution_count": 4,
   "metadata": {},
   "outputs": [],
   "source": [
    "model = keras.Sequential([\n",
    "    Dense(32,input_shape=(10,),activation='relu'),### This is the hidden layer and the input layer is defined by input_shape\n",
    "    Dense(2,activation='softmax') ### Output Layer\n",
    "    \n",
    "])"
   ]
  },
  {
   "cell_type": "code",
   "execution_count": 9,
   "metadata": {},
   "outputs": [],
   "source": [
    "model  = keras.Sequential()\n",
    "model.add(Dense(5,input_shape=(3,)))\n",
    "model.add(Activation('relu'))"
   ]
  },
  {
   "cell_type": "code",
   "execution_count": 10,
   "metadata": {},
   "outputs": [],
   "source": [
    "### Above are the two ways to create a ANNs"
   ]
  },
  {
   "cell_type": "markdown",
   "metadata": {},
   "source": [
    "### Training\n",
    "Solving an Optimization Problem \n",
    "- Optimizing Agents \n",
    "    - with Stochastic Gradient Descent (SGD)\n",
    "- Objective Minimize Loss Function\n",
    "- A single pass of the data through the model is known as <b>Epoch</b><br>\n",
    "\n",
    "\n",
    "Finally, let’s make this concrete with a small example.\n",
    "Assume you have a dataset with 200 samples (rows of data) and you choose a batch size of 5 and 1,000 epochs.\n",
    "\n",
    "This means that the dataset will be divided into 40 batches, each with five samples. The model weights will be updated after each batch of five samples.\n",
    "\n",
    "This also means that one epoch will involve 40 batches or 40 updates to the model.\n",
    "\n",
    "With 1,000 epochs, the model will be exposed to or pass through the whole dataset 1,000 times. That is a total of 40,000 batches during the entire training process."
   ]
  },
  {
   "cell_type": "code",
   "execution_count": null,
   "metadata": {},
   "outputs": [],
   "source": []
  }
 ],
 "metadata": {
  "kernelspec": {
   "display_name": "Python 3",
   "language": "python",
   "name": "python3"
  },
  "language_info": {
   "codemirror_mode": {
    "name": "ipython",
    "version": 3
   },
   "file_extension": ".py",
   "mimetype": "text/x-python",
   "name": "python",
   "nbconvert_exporter": "python",
   "pygments_lexer": "ipython3",
   "version": "3.7.9"
  }
 },
 "nbformat": 4,
 "nbformat_minor": 4
}
